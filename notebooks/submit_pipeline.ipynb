{
 "cells": [
  {
   "cell_type": "code",
   "execution_count": null,
   "id": "243856de",
   "metadata": {
    "vscode": {
     "languageId": "plaintext"
    }
   },
   "outputs": [],
   "source": [
    "from azure.ai.ml import MLClient\n",
    "from azure.ai.ml.entities import Environment\n",
    "from azure.identity import DefaultAzureCredential\n",
    "\n",
    "# Initialize ML Client\n",
    "credential = DefaultAzureCredential()\n",
    "ml_client = MLClient(\n",
    "    credential,\n",
    "    subscription_id=\"<your-subscription-id>\",\n",
    "    resource_group=\"<your-resource-group>\",\n",
    "    workspace=\"<your-workspace>\"\n",
    ")\n",
    "\n",
    "# Create environment\n",
    "env = Environment(\n",
    "    name=\"personal_agendas_env\",\n",
    "    description=\"Environment for Personal Agendas pipeline\",\n",
    "    conda_file=\"./env/conda.yaml\",\n",
    "    image=\"mcr.microsoft.com/azureml/openmpi4.1.0-ubuntu20.04:latest\"\n",
    ")\n",
    "ml_client.environments.create_or_update(env)"
   ]
  },
  {
   "cell_type": "code",
   "execution_count": null,
   "id": "dc25273b",
   "metadata": {
    "vscode": {
     "languageId": "plaintext"
    }
   },
   "outputs": [],
   "source": [
    "from azure.ai.ml import MLClient, command, Input, Output\n",
    "from azure.ai.ml.dsl import pipeline\n",
    "from azure.ai.ml.entities import Data\n",
    "from azure.ai.ml.constants import AssetTypes, InputOutputModes\n",
    "from azure.identity import DefaultAzureCredential\n",
    "import os\n",
    "\n",
    "# Initialize ML Client\n",
    "credential = DefaultAzureCredential()\n",
    "ml_client = MLClient(\n",
    "    credential,\n",
    "    subscription_id=os.getenv(\"SUBSCRIPTION_ID\"),\n",
    "    resource_group=os.getenv(\"RESOURCE_GROUP\"),\n",
    "    workspace=os.getenv(\"AZUREML_WORKSPACE_NAME\")\n",
    ")\n",
    "\n",
    "# Define Step 1: Data Preparation\n",
    "@command(\n",
    "    name=\"data_preparation\",\n",
    "    display_name=\"Data Preparation (Registration, Scan, Session)\",\n",
    "    environment=\"personal_agendas_env:latest\",\n",
    "    compute=\"cpu-cluster\",\n",
    "    code=\"./azureml_pipeline\",\n",
    "    is_deterministic=False\n",
    ")\n",
    "def data_preparation_step(\n",
    "    input_uri: Input(type=AssetTypes.URI_FOLDER),\n",
    "    config_file: Input(type=AssetTypes.URI_FILE),\n",
    "    incremental: bool = False\n",
    ") -> dict:\n",
    "    return {\n",
    "        \"registration_output\": Output(type=AssetTypes.URI_FOLDER),\n",
    "        \"scan_output\": Output(type=AssetTypes.URI_FOLDER),\n",
    "        \"session_output\": Output(type=AssetTypes.URI_FOLDER),\n",
    "        \"metadata_output\": Output(type=AssetTypes.URI_FOLDER)\n",
    "    }\n",
    "\n",
    "# Define the pipeline\n",
    "@pipeline(\n",
    "    name=\"personal_agendas_pipeline\",\n",
    "    description=\"Personal Agendas data processing pipeline\"\n",
    ")\n",
    "def personal_agendas_pipeline(\n",
    "    input_data_uri: str,\n",
    "    config_type: str = \"vet\"  # or \"ecomm\"\n",
    "):\n",
    "    # Step 1: Data Preparation\n",
    "    step1 = data_preparation_step(\n",
    "        input_uri=input_data_uri,\n",
    "        config_file=f\"./PA/config/config_{config_type}.yaml\",\n",
    "        incremental=False\n",
    "    )\n",
    "    \n",
    "    # Additional steps would be added here\n",
    "    # step2 = neo4j_preparation_step(...)\n",
    "    # step3 = embeddings_step(...)\n",
    "    # step4 = recommendations_step(...)\n",
    "    \n",
    "    return {\n",
    "        \"registration_data\": step1.outputs.registration_output,\n",
    "        \"scan_data\": step1.outputs.scan_output,\n",
    "        \"session_data\": step1.outputs.session_output\n",
    "    }\n",
    "\n",
    "# Submit the pipeline\n",
    "pipeline_job = personal_agendas_pipeline(\n",
    "    input_data_uri=\"azureml://datastores/landing/paths/weekly_refresh_data\",\n",
    "    config_type=\"vet\"\n",
    ")\n",
    "\n",
    "# Submit to Azure ML\n",
    "submitted_job = ml_client.jobs.create_or_update(\n",
    "    pipeline_job,\n",
    "    experiment_name=\"personal_agendas_experiment\"\n",
    ")\n",
    "\n",
    "print(f\"Pipeline submitted: {submitted_job.name}\")\n",
    "print(f\"Monitor at: {submitted_job.studio_url}\")"
   ]
  },
  {
   "cell_type": "code",
   "execution_count": null,
   "id": "4dd453eb",
   "metadata": {
    "vscode": {
     "languageId": "plaintext"
    }
   },
   "outputs": [],
   "source": []
  }
 ],
 "metadata": {
  "language_info": {
   "name": "python"
  }
 },
 "nbformat": 4,
 "nbformat_minor": 5
}
